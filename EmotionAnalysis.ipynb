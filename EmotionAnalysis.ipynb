{
  "nbformat": 4,
  "nbformat_minor": 0,
  "metadata": {
    "colab": {
      "name": "EmotionAnalysis.ipynb",
      "provenance": [],
      "collapsed_sections": [],
      "include_colab_link": true
    },
    "kernelspec": {
      "display_name": "Python 3",
      "language": "python",
      "name": "python3"
    },
    "language_info": {
      "codemirror_mode": {
        "name": "ipython",
        "version": 3
      },
      "file_extension": ".py",
      "mimetype": "text/x-python",
      "name": "python",
      "nbconvert_exporter": "python",
      "pygments_lexer": "ipython3",
      "version": "3.8.5"
    }
  },
  "cells": [
    {
      "cell_type": "markdown",
      "metadata": {
        "id": "view-in-github",
        "colab_type": "text"
      },
      "source": [
        "<a href=\"https://colab.research.google.com/github/Sandeep04sharma/Emotional-Analysis/blob/main/EmotionAnalysis.ipynb\" target=\"_parent\"><img src=\"https://colab.research.google.com/assets/colab-badge.svg\" alt=\"Open In Colab\"/></a>"
      ]
    },
    {
      "cell_type": "code",
      "metadata": {
        "id": "JJvQwPpjaw0Y"
      },
      "source": [
        "from google.colab import drive\n",
        "drive.mount('/content/drive')"
      ],
      "execution_count": null,
      "outputs": []
    },
    {
      "cell_type": "code",
      "metadata": {
        "id": "0c7SZkOD7bmx",
        "scrolled": true,
        "colab": {
          "base_uri": "https://localhost:8080/"
        },
        "outputId": "4ddf6c42-97e0-42c5-9e4c-32902ee320e8"
      },
      "source": [
        "!pip install twitter\n",
        "!pip install wordcloud\n",
        "!pip install spacy\n",
        "!pip install nltk"
      ],
      "execution_count": null,
      "outputs": [
        {
          "output_type": "stream",
          "text": [
            "Collecting twitter\n",
            "\u001b[?25l  Downloading https://files.pythonhosted.org/packages/7d/3b/796e46d45815b4c413904eb735461c6afe736d5f57199dc071a64b5cfcd1/twitter-1.19.2-py2.py3-none-any.whl (50kB)\n",
            "\r\u001b[K     |██████▌                         | 10kB 17.0MB/s eta 0:00:01\r\u001b[K     |█████████████                   | 20kB 22.1MB/s eta 0:00:01\r\u001b[K     |███████████████████▋            | 30kB 10.1MB/s eta 0:00:01\r\u001b[K     |██████████████████████████▏     | 40kB 8.4MB/s eta 0:00:01\r\u001b[K     |████████████████████████████████| 51kB 2.9MB/s \n",
            "\u001b[?25hInstalling collected packages: twitter\n",
            "Successfully installed twitter-1.19.2\n",
            "Requirement already satisfied: wordcloud in /usr/local/lib/python3.7/dist-packages (1.5.0)\n",
            "Requirement already satisfied: pillow in /usr/local/lib/python3.7/dist-packages (from wordcloud) (7.1.2)\n",
            "Requirement already satisfied: numpy>=1.6.1 in /usr/local/lib/python3.7/dist-packages (from wordcloud) (1.19.5)\n",
            "Requirement already satisfied: spacy in /usr/local/lib/python3.7/dist-packages (2.2.4)\n",
            "Requirement already satisfied: cymem<2.1.0,>=2.0.2 in /usr/local/lib/python3.7/dist-packages (from spacy) (2.0.5)\n",
            "Requirement already satisfied: wasabi<1.1.0,>=0.4.0 in /usr/local/lib/python3.7/dist-packages (from spacy) (0.8.2)\n",
            "Requirement already satisfied: catalogue<1.1.0,>=0.0.7 in /usr/local/lib/python3.7/dist-packages (from spacy) (1.0.0)\n",
            "Requirement already satisfied: plac<1.2.0,>=0.9.6 in /usr/local/lib/python3.7/dist-packages (from spacy) (1.1.3)\n",
            "Requirement already satisfied: setuptools in /usr/local/lib/python3.7/dist-packages (from spacy) (57.0.0)\n",
            "Requirement already satisfied: thinc==7.4.0 in /usr/local/lib/python3.7/dist-packages (from spacy) (7.4.0)\n",
            "Requirement already satisfied: blis<0.5.0,>=0.4.0 in /usr/local/lib/python3.7/dist-packages (from spacy) (0.4.1)\n",
            "Requirement already satisfied: srsly<1.1.0,>=1.0.2 in /usr/local/lib/python3.7/dist-packages (from spacy) (1.0.5)\n",
            "Requirement already satisfied: numpy>=1.15.0 in /usr/local/lib/python3.7/dist-packages (from spacy) (1.19.5)\n",
            "Requirement already satisfied: tqdm<5.0.0,>=4.38.0 in /usr/local/lib/python3.7/dist-packages (from spacy) (4.41.1)\n",
            "Requirement already satisfied: preshed<3.1.0,>=3.0.2 in /usr/local/lib/python3.7/dist-packages (from spacy) (3.0.5)\n",
            "Requirement already satisfied: murmurhash<1.1.0,>=0.28.0 in /usr/local/lib/python3.7/dist-packages (from spacy) (1.0.5)\n",
            "Requirement already satisfied: requests<3.0.0,>=2.13.0 in /usr/local/lib/python3.7/dist-packages (from spacy) (2.23.0)\n",
            "Requirement already satisfied: importlib-metadata>=0.20; python_version < \"3.8\" in /usr/local/lib/python3.7/dist-packages (from catalogue<1.1.0,>=0.0.7->spacy) (4.0.1)\n",
            "Requirement already satisfied: chardet<4,>=3.0.2 in /usr/local/lib/python3.7/dist-packages (from requests<3.0.0,>=2.13.0->spacy) (3.0.4)\n",
            "Requirement already satisfied: idna<3,>=2.5 in /usr/local/lib/python3.7/dist-packages (from requests<3.0.0,>=2.13.0->spacy) (2.10)\n",
            "Requirement already satisfied: certifi>=2017.4.17 in /usr/local/lib/python3.7/dist-packages (from requests<3.0.0,>=2.13.0->spacy) (2020.12.5)\n",
            "Requirement already satisfied: urllib3!=1.25.0,!=1.25.1,<1.26,>=1.21.1 in /usr/local/lib/python3.7/dist-packages (from requests<3.0.0,>=2.13.0->spacy) (1.24.3)\n",
            "Requirement already satisfied: typing-extensions>=3.6.4; python_version < \"3.8\" in /usr/local/lib/python3.7/dist-packages (from importlib-metadata>=0.20; python_version < \"3.8\"->catalogue<1.1.0,>=0.0.7->spacy) (3.7.4.3)\n",
            "Requirement already satisfied: zipp>=0.5 in /usr/local/lib/python3.7/dist-packages (from importlib-metadata>=0.20; python_version < \"3.8\"->catalogue<1.1.0,>=0.0.7->spacy) (3.4.1)\n",
            "Requirement already satisfied: nltk in /usr/local/lib/python3.7/dist-packages (3.2.5)\n",
            "Requirement already satisfied: six in /usr/local/lib/python3.7/dist-packages (from nltk) (1.15.0)\n"
          ],
          "name": "stdout"
        }
      ]
    },
    {
      "cell_type": "code",
      "metadata": {
        "colab": {
          "base_uri": "https://localhost:8080/"
        },
        "id": "PmjXhPeTERRR",
        "outputId": "c368f7de-97a9-4170-f08e-c021a4ede590"
      },
      "source": [
        "# LIBRARY TO WORK WITH TWITTER  API\n",
        "#!pip install twitter\n",
        "import twitter\n",
        "import random\n",
        "import pandas as pd\n",
        "import numpy as np\n",
        "import matplotlib.pyplot as plt\n",
        "import seaborn as sns\n",
        "import json\n",
        "import re\n",
        "import unicodedata\n",
        "from wordcloud import WordCloud\n",
        "import spacy\n",
        "from spacy.lang.en.stop_words import STOP_WORDS\n",
        "import nltk\n",
        "nltk.download('stopwords')\n",
        "from nltk.corpus import stopwords\n",
        "#import sklearn\n",
        "from nltk.stem.porter import PorterStemmer\n",
        "ps=PorterStemmer()"
      ],
      "execution_count": null,
      "outputs": [
        {
          "output_type": "stream",
          "text": [
            "[nltk_data] Downloading package stopwords to /root/nltk_data...\n",
            "[nltk_data]   Unzipping corpora/stopwords.zip.\n"
          ],
          "name": "stdout"
        }
      ]
    },
    {
      "cell_type": "code",
      "metadata": {
        "id": "ytlH5cq2ZLwB"
      },
      "source": [
        "STOP_WORDS.add(\"name\")\n",
        "STOP_WORDS.add(\"people\")\n",
        "STOP_WORDS.add(\"peopl\")\n",
        "STOP_WORDS.add(\"Im\")\n",
        "STOP_WORDS.add(\"ed\")"
      ],
      "execution_count": null,
      "outputs": []
    },
    {
      "cell_type": "code",
      "metadata": {
        "id": "tto89HUfAnKs"
      },
      "source": [
        "df=pd.read_csv('/content/drive/MyDrive/Colab Notebooks/EmotionAnalysis/final_dataset.csv')"
      ],
      "execution_count": null,
      "outputs": []
    },
    {
      "cell_type": "code",
      "metadata": {
        "id": "1mpNVi_ETvQW"
      },
      "source": [
        "CONSUMER_KEY = 'Ri9pFOQqXSnHm8p8IZj5QCw26'\n",
        "CONSUMER_SECRET = 'hRrAioGsLbwWHp0fAmrCNZkbhOd2E3mRYeAQ6OUZlQD36y1jej'\n",
        "OAUTH_TOKEN = '1258017464174219269-y9B2ac2711bcaYEHoSqi3qJ7RXGuMY'\n",
        "OAUTH_TOKEN_SECRET = 'i8JW4em2QuH0e4H5Ahy9SYn0wXSBDaafDsZJrmweYc79Z'\n",
        "auth = twitter.OAuth(OAUTH_TOKEN, OAUTH_TOKEN_SECRET,\n",
        "CONSUMER_KEY, CONSUMER_SECRET)\n",
        "twitter_api = twitter.Twitter(auth=auth)\n"
      ],
      "execution_count": null,
      "outputs": []
    },
    {
      "cell_type": "code",
      "metadata": {
        "id": "r6LzwDYKE7ey",
        "scrolled": true
      },
      "source": [
        "WORLD_WOE_ID = 23424977\n",
        "DL_WOE_ID = 20070458\n",
        "#world_trends = api.trends_place(WORLD_WOE_ID)\n",
        "#dl_trends = api.trends_place(DL_WOE_ID)\n",
        "world_trends = twitter_api.trends.place(_id = WORLD_WOE_ID)\n",
        "delhi_trends = twitter_api.trends.place(_id = DL_WOE_ID)\n",
        "#print(world_trends)\n",
        "#print()\n",
        "#print(delhi_trends)"
      ],
      "execution_count": null,
      "outputs": []
    },
    {
      "cell_type": "code",
      "metadata": {
        "id": "oeyz4BWe3iQj"
      },
      "source": [
        "# #hashtag counts\n",
        "def hashtag_count(x):\n",
        "    hashtag=0\n",
        "    word_list = x.split(' ')\n",
        "    for word in word_list:\n",
        "        if word.startswith('#'):\n",
        "            hashtag+=1\n",
        "    return hashtag\n"
      ],
      "execution_count": null,
      "outputs": []
    },
    {
      "cell_type": "code",
      "metadata": {
        "id": "UIC98v5j3rDJ"
      },
      "source": [
        "# @ mentions counts\n",
        "def mention_count(x):\n",
        "    mentions=0\n",
        "    word_list = x.split(' ')\n",
        "    for word in word_list:\n",
        "        if word.startswith('@'):\n",
        "            mentions+=1\n",
        "    return mentions\n"
      ],
      "execution_count": null,
      "outputs": []
    },
    {
      "cell_type": "code",
      "metadata": {
        "id": "fxi8yHShFU6V"
      },
      "source": [
        "# Average word length\n",
        "def get_average_word_len(x):\n",
        "    words_list = x.split(' ')\n",
        "    word_len = 0\n",
        "    for word in words_list:\n",
        "        word_len+=len(word)\n",
        "    return word_len/len(words_list)\n"
      ],
      "execution_count": null,
      "outputs": []
    },
    {
      "cell_type": "code",
      "metadata": {
        "id": "5DmWzv-1QG96"
      },
      "source": [
        "# contractions to expansions\n",
        "contractions = { \n",
        "\"ain't\": \"am not / are not / is not / has not / have not\",\n",
        "\"aren't\": \"are not / am not\",\n",
        "\"can't\": \"cannot\",\n",
        "\"can't've\": \"cannot have\",\n",
        "\"'cause\": \"because\",\n",
        "\"could've\": \"could have\",\n",
        "\"couldn't\": \"could not\",\n",
        "\"couldn't've\": \"could not have\",\n",
        "\"didn't\": \"did not\",\n",
        "\"doesn't\": \"does not\",\n",
        "\"don't\": \"do not\",\n",
        "\"hadn't\": \"had not\",\n",
        "\"hadn't've\": \"had not have\",\n",
        "\"hasn't\": \"has not\",\n",
        "\"haven't\": \"have not\",\n",
        "\"he'd\": \"he had / he would\",\n",
        "\"he'd've\": \"he would have\",\n",
        "\"he'll\": \"he shall / he will\",\n",
        "\"he'll've\": \"he shall have / he will have\",\n",
        "\"he's\": \"he has / he is\",\n",
        "\"how'd\": \"how did\",\n",
        "\"how'd'y\": \"how do you\",\n",
        "\"how'll\": \"how will\",\n",
        "\"how's\": \"how has / how is / how does\",\n",
        "\"i'd\": \"I had / I would\",\n",
        "\"i'd've\": \"I would have\",\n",
        "\"i'll\": \"I shall / I will\",\n",
        "\"i'll've\": \"I shall have / I will have\",\n",
        "\"i'm\": \"I am\",\n",
        "\"i've\": \"I have\",\n",
        "\"isn't\": \"is not\",\n",
        "\"it'd\": \"it had / it would\",\n",
        "\"it'd've\": \"it would have\",\n",
        "\"it'll\": \"it shall / it will\",\n",
        "\"it'll've\": \"it shall have / it will have\",\n",
        "\"it's\": \"it has / it is\",\n",
        "\"let's\": \"let us\",\n",
        "\"ma'am\": \"madam\",\n",
        "\"mayn't\": \"may not\",\n",
        "\"might've\": \"might have\",\n",
        "\"mightn't\": \"might not\",\n",
        "\"mightn't've\": \"might not have\",\n",
        "\"must've\": \"must have\",\n",
        "\"mustn't\": \"must not\",\n",
        "\"mustn't've\": \"must not have\",\n",
        "\"needn't\": \"need not\",\n",
        "\"needn't've\": \"need not have\",\n",
        "\"o'clock\": \"of the clock\",\n",
        "\"oughtn't\": \"ought not\",\n",
        "\"oughtn't've\": \"ought not have\",\n",
        "\"shan't\": \"shall not\",\n",
        "\"sha'n't\": \"shall not\",\n",
        "\"shan't've\": \"shall not have\",\n",
        "\"she'd\": \"she had / she would\",\n",
        "\"she'd've\": \"she would have\",\n",
        "\"she'll\": \"she shall / she will\",\n",
        "\"she'll've\": \"she shall have / she will have\",\n",
        "\"she's\": \"she has / she is\",\n",
        "\"should've\": \"should have\",\n",
        "\"shouldn't\": \"should not\",\n",
        "\"shouldn't've\": \"should not have\",\n",
        "\"so've\": \"so have\",\n",
        "\"so's\": \"so as / so is\",\n",
        "\"that'd\": \"that would / that had\",\n",
        "\"that'd've\": \"that would have\",\n",
        "\"that's\": \"that has / that is\",\n",
        "\"there'd\": \"there had / there would\",\n",
        "\"there'd've\": \"there would have\",\n",
        "\"there's\": \"there has / there is\",\n",
        "\"they'd\": \"they had / they would\",\n",
        "\"they'd've\": \"they would have\",\n",
        "\"they'll\": \"they shall / they will\",\n",
        "\"they'll've\": \"they shall have / they will have\",\n",
        "\"they're\": \"they are\",\n",
        "\"they've\": \"they have\",\n",
        "\"to've\": \"to have\",\n",
        "\"wasn't\": \"was not\",\n",
        "\"we'd\": \"we had / we would\",\n",
        "\"we'd've\": \"we would have\",\n",
        "\"we'll\": \"we will\",\n",
        "\"we'll've\": \"we will have\",\n",
        "\"we're\": \"we are\",\n",
        "\"we've\": \"we have\",\n",
        "\"weren't\": \"were not\",\n",
        "\"what'll\": \"what shall / what will\",\n",
        "\"what'll've\": \"what shall have / what will have\",\n",
        "\"what're\": \"what are\",\n",
        "\"what's\": \"what has / what is\",\n",
        "\"what've\": \"what have\",\n",
        "\"when's\": \"when has / when is\",\n",
        "\"when've\": \"when have\",\n",
        "\"where'd\": \"where did\",\n",
        "\"where's\": \"where has / where is\",\n",
        "\"where've\": \"where have\",\n",
        "\"who'll\": \"who shall / who will\",\n",
        "\"who'll've\": \"who shall have / who will have\",\n",
        "\"who's\": \"who has / who is\",\n",
        "\"who've\": \"who have\",\n",
        "\"why's\": \"why has / why is\",\n",
        "\"why've\": \"why have\",\n",
        "\"will've\": \"will have\",\n",
        "\"won't\": \"will not\",\n",
        "\"won't've\": \"will not have\",\n",
        "\"would've\": \"would have\",\n",
        "\"wouldn't\": \"would not\",\n",
        "\"wouldn't've\": \"would not have\",\n",
        "\"y'all\": \"you all\",\n",
        "\"y'all'd\": \"you all would\",\n",
        "\"y'all'd've\": \"you all would have\",\n",
        "\"y'all're\": \"you all are\",\n",
        "\"y'all've\": \"you all have\",\n",
        "\"you'd\": \"you had / you would\",\n",
        "\"you'd've\": \"you would have\",\n",
        "\"you'll\": \"you shall / you will\",\n",
        "\"you'll've\": \"you shall have / you will have\",\n",
        "\"you're\": \"you are\",\n",
        "\"you've\": \"you have\",\n",
        "\"b'day\" : \"birthday\",\n",
        "\"bday\" : \"birthday\",\n",
        "\"don't\" : \"do not\",\n",
        "\"dont\" : \"do not\",\n",
        "}"
      ],
      "execution_count": null,
      "outputs": []
    },
    {
      "cell_type": "code",
      "metadata": {
        "id": "IFAlCOQpQIIK"
      },
      "source": [
        "def cont_to_exp(x):\n",
        "    if type(x)==str:\n",
        "        for key in contractions:\n",
        "            value=contractions[key]\n",
        "            x=x.replace(key,value)\n",
        "    return x"
      ],
      "execution_count": null,
      "outputs": []
    },
    {
      "cell_type": "code",
      "metadata": {
        "id": "q53aIL_CZLwG"
      },
      "source": [
        "# stop word count\n",
        "def stop_word_count(x):\n",
        "    words_list = x.split(' ')\n",
        "    #print(len(words_list))\n",
        "    count=0\n",
        "    for word in words_list:\n",
        "        if word in STOP_WORDS:\n",
        "            count+=1\n",
        "    #stopwords_count_list.append(count)\n",
        "    return count\n",
        "    #return (' '.join([t for t in x.split(' ') if t not in STOP_WORDS]))"
      ],
      "execution_count": null,
      "outputs": []
    },
    {
      "cell_type": "code",
      "metadata": {
        "id": "M3vexBNdZLwH"
      },
      "source": [
        "def get_email_count(x):\n",
        "    return(len(re.findall(r'[a-zA-z0-9._-]+@[a-zA-Z0-9._-]+\\.[a-zA-Z0-9_-]+',x )))"
      ],
      "execution_count": null,
      "outputs": []
    },
    {
      "cell_type": "code",
      "metadata": {
        "id": "r_qIE14pZLwH"
      },
      "source": [
        "# remove emails \n",
        "def remove_email(x):\n",
        "    return (re.sub(r'[a-zA-z0-9._-]+@[a-zA-Z0-9._-]+\\.[a-zA-Z0-9_-]+',' ',x ))"
      ],
      "execution_count": null,
      "outputs": []
    },
    {
      "cell_type": "code",
      "metadata": {
        "id": "WMe53JcEZLwI"
      },
      "source": [
        "# Remove urls\n",
        "def remove_url(x):\n",
        "    return (re.sub(r'(http|ftp|https)://([\\w_-]+(?:(?:\\.[\\w_-]+)+))([\\w.,@?^=%&:/~+#-]*[\\w@?^=%&/~+#-])?','',x))"
      ],
      "execution_count": null,
      "outputs": []
    },
    {
      "cell_type": "code",
      "metadata": {
        "id": "P_o2rBZaZLwI"
      },
      "source": [
        "# Remove accented characters\n",
        "def remove_accented_chars(x):\n",
        "    x=unicodedata.normalize('NFKD',x).encode('ascii','ignore').decode('ascii','ignore')\n",
        "    return x"
      ],
      "execution_count": null,
      "outputs": []
    },
    {
      "cell_type": "code",
      "metadata": {
        "id": "Sl1qj5esZLwI"
      },
      "source": [
        "def remove_non_english(x):\n",
        "    return(re.sub('[^a-zA-Z0-9,.~!$%^&#@*\\n ]','',x))"
      ],
      "execution_count": null,
      "outputs": []
    },
    {
      "cell_type": "code",
      "metadata": {
        "id": "_2-CMx0CZLwJ"
      },
      "source": [
        "def preprocessing(text_and_label):\n",
        "    text_and_label['hashtag_count'] = text_and_label['text'].apply(hashtag_count)\n",
        "    text_and_label['mentions_count'] = text_and_label['text'].apply(mention_count)\n",
        "    text_and_label['word_counts'] = text_and_label['text'].apply(lambda x : len(str(x).split()))\n",
        "    text_and_label['average_word_len'] = text_and_label['text'].apply(get_average_word_len)\n",
        "    text_and_label['text'] = text_and_label['text'].apply(cont_to_exp)\n",
        "    text_and_label['stopword_count'] = text_and_label['text'].apply(stop_word_count)\n",
        "    text_and_label['text'] = text_and_label['text'].apply(lambda x: ' '.join([t for t in x.split(' ') if t not in STOP_WORDS]))\n",
        "    text_and_label['email_counts'] = text_and_label['text'].apply(get_email_count)\n",
        "    text_and_label['text'] = text_and_label['text'].apply(remove_email)\n",
        "    text_and_label['text'] = text_and_label['text'].apply(remove_url)\n",
        "    text_and_label['text'] = text_and_label['text'].apply(lambda x : re.sub('RT','',x))\n",
        "    text_and_label['text'] = text_and_label['text'].apply(lambda x : re.sub('[^&a]*','&',x))\n",
        "    #text_and_label['text'] = text_and_label['text'].apply(lambda x: re.sub('[^a-z A-Z 0-9-]+','',x))\n",
        "    text_and_label['text'] = text_and_label['text'].apply(lambda x: \" \".join(x.split(' ')))\n",
        "    text_and_label['text'] = text_and_label['text'].apply(remove_accented_chars)\n",
        "    text = ' '.join(text_and_label['text'])\n",
        "    text = text.split(' ')\n",
        "    freq = pd.Series(text).value_counts()\n",
        "    x = ' '.join(text)\n",
        "    wc = WordCloud(width = 800, height = 400).generate(x)\n",
        "    plt.imshow(wc)\n",
        "    plt.axis('off')\n",
        "    plt.imshow(wc)\n",
        "    plt.axis('off')\n",
        "    return (text_and_label)"
      ],
      "execution_count": null,
      "outputs": []
    },
    {
      "cell_type": "code",
      "metadata": {
        "id": "aEOjEC_xZLwJ"
      },
      "source": [
        "#df = pd.read_csv('../Dataset/EmotionsWiseDataset/final_dataset.csv')\n",
        "#df = pd.read_csv('/content/drive/MyDrive/Mini Project/dataset/final_dataset.csv')"
      ],
      "execution_count": null,
      "outputs": []
    },
    {
      "cell_type": "code",
      "metadata": {
        "colab": {
          "base_uri": "https://localhost:8080/",
          "height": 202
        },
        "id": "MdNX_ojwZLwJ",
        "outputId": "479cc29d-aa68-4949-ce63-42111b76c1d2"
      },
      "source": [
        "df.head()"
      ],
      "execution_count": null,
      "outputs": [
        {
          "output_type": "execute_result",
          "data": {
            "text/html": [
              "<div>\n",
              "<style scoped>\n",
              "    .dataframe tbody tr th:only-of-type {\n",
              "        vertical-align: middle;\n",
              "    }\n",
              "\n",
              "    .dataframe tbody tr th {\n",
              "        vertical-align: top;\n",
              "    }\n",
              "\n",
              "    .dataframe thead th {\n",
              "        text-align: right;\n",
              "    }\n",
              "</style>\n",
              "<table border=\"1\" class=\"dataframe\">\n",
              "  <thead>\n",
              "    <tr style=\"text-align: right;\">\n",
              "      <th></th>\n",
              "      <th>Emotion</th>\n",
              "      <th>Emotion_ID</th>\n",
              "      <th>text</th>\n",
              "    </tr>\n",
              "  </thead>\n",
              "  <tbody>\n",
              "    <tr>\n",
              "      <th>0</th>\n",
              "      <td>anger</td>\n",
              "      <td>1</td>\n",
              "      <td>fuckin'm transtelecom</td>\n",
              "    </tr>\n",
              "    <tr>\n",
              "      <th>1</th>\n",
              "      <td>anger</td>\n",
              "      <td>1</td>\n",
              "      <td>Working   But it's Fridaaaayyyyy</td>\n",
              "    </tr>\n",
              "    <tr>\n",
              "      <th>2</th>\n",
              "      <td>anger</td>\n",
              "      <td>1</td>\n",
              "      <td>Packing  I don't like it..</td>\n",
              "    </tr>\n",
              "    <tr>\n",
              "      <th>3</th>\n",
              "      <td>anger</td>\n",
              "      <td>1</td>\n",
              "      <td>I tried to dye my hair and all i got was a blo...</td>\n",
              "    </tr>\n",
              "    <tr>\n",
              "      <th>4</th>\n",
              "      <td>anger</td>\n",
              "      <td>1</td>\n",
              "      <td>&amp;quot;locked up abroad&amp;quot; makes bein half b...</td>\n",
              "    </tr>\n",
              "  </tbody>\n",
              "</table>\n",
              "</div>"
            ],
            "text/plain": [
              "  Emotion  Emotion_ID                                               text\n",
              "0   anger           1                              fuckin'm transtelecom\n",
              "1   anger           1                   Working   But it's Fridaaaayyyyy\n",
              "2   anger           1                         Packing  I don't like it..\n",
              "3   anger           1  I tried to dye my hair and all i got was a blo...\n",
              "4   anger           1  &quot;locked up abroad&quot; makes bein half b..."
            ]
          },
          "metadata": {
            "tags": []
          },
          "execution_count": 22
        }
      ]
    },
    {
      "cell_type": "code",
      "metadata": {
        "colab": {
          "base_uri": "https://localhost:8080/",
          "height": 294
        },
        "id": "6BMBXCAaZLwK",
        "outputId": "144e2cf5-cef6-44f4-82a8-26fa49a04878"
      },
      "source": [
        "df.describe()"
      ],
      "execution_count": null,
      "outputs": [
        {
          "output_type": "execute_result",
          "data": {
            "text/html": [
              "<div>\n",
              "<style scoped>\n",
              "    .dataframe tbody tr th:only-of-type {\n",
              "        vertical-align: middle;\n",
              "    }\n",
              "\n",
              "    .dataframe tbody tr th {\n",
              "        vertical-align: top;\n",
              "    }\n",
              "\n",
              "    .dataframe thead th {\n",
              "        text-align: right;\n",
              "    }\n",
              "</style>\n",
              "<table border=\"1\" class=\"dataframe\">\n",
              "  <thead>\n",
              "    <tr style=\"text-align: right;\">\n",
              "      <th></th>\n",
              "      <th>Emotion_ID</th>\n",
              "    </tr>\n",
              "  </thead>\n",
              "  <tbody>\n",
              "    <tr>\n",
              "      <th>count</th>\n",
              "      <td>161344.000000</td>\n",
              "    </tr>\n",
              "    <tr>\n",
              "      <th>mean</th>\n",
              "      <td>4.485453</td>\n",
              "    </tr>\n",
              "    <tr>\n",
              "      <th>std</th>\n",
              "      <td>1.561373</td>\n",
              "    </tr>\n",
              "    <tr>\n",
              "      <th>min</th>\n",
              "      <td>1.000000</td>\n",
              "    </tr>\n",
              "    <tr>\n",
              "      <th>25%</th>\n",
              "      <td>4.000000</td>\n",
              "    </tr>\n",
              "    <tr>\n",
              "      <th>50%</th>\n",
              "      <td>5.000000</td>\n",
              "    </tr>\n",
              "    <tr>\n",
              "      <th>75%</th>\n",
              "      <td>5.000000</td>\n",
              "    </tr>\n",
              "    <tr>\n",
              "      <th>max</th>\n",
              "      <td>7.000000</td>\n",
              "    </tr>\n",
              "  </tbody>\n",
              "</table>\n",
              "</div>"
            ],
            "text/plain": [
              "          Emotion_ID\n",
              "count  161344.000000\n",
              "mean        4.485453\n",
              "std         1.561373\n",
              "min         1.000000\n",
              "25%         4.000000\n",
              "50%         5.000000\n",
              "75%         5.000000\n",
              "max         7.000000"
            ]
          },
          "metadata": {
            "tags": []
          },
          "execution_count": 23
        }
      ]
    },
    {
      "cell_type": "code",
      "metadata": {
        "colab": {
          "base_uri": "https://localhost:8080/"
        },
        "id": "G1bsvBIHZLwK",
        "outputId": "c1c7955e-ce16-41d0-d865-9ac510265c04"
      },
      "source": [
        "df.info()"
      ],
      "execution_count": null,
      "outputs": [
        {
          "output_type": "stream",
          "text": [
            "<class 'pandas.core.frame.DataFrame'>\n",
            "RangeIndex: 161344 entries, 0 to 161343\n",
            "Data columns (total 3 columns):\n",
            " #   Column      Non-Null Count   Dtype \n",
            "---  ------      --------------   ----- \n",
            " 0   Emotion     161344 non-null  object\n",
            " 1   Emotion_ID  161344 non-null  int64 \n",
            " 2   text        161344 non-null  object\n",
            "dtypes: int64(1), object(2)\n",
            "memory usage: 3.7+ MB\n"
          ],
          "name": "stdout"
        }
      ]
    },
    {
      "cell_type": "code",
      "metadata": {
        "colab": {
          "base_uri": "https://localhost:8080/"
        },
        "id": "Uxz2_JTYZLwL",
        "outputId": "3402b864-27f7-4381-ee62-bf4cf59b914d"
      },
      "source": [
        "df['Emotion'].value_counts()"
      ],
      "execution_count": null,
      "outputs": [
        {
          "output_type": "execute_result",
          "data": {
            "text/plain": [
              "Neutral     63936\n",
              "Happy       30885\n",
              "sad         27538\n",
              "anger       15990\n",
              "Surprise     9060\n",
              "Fear         7973\n",
              "Disgust      5962\n",
              "Name: Emotion, dtype: int64"
            ]
          },
          "metadata": {
            "tags": []
          },
          "execution_count": 25
        }
      ]
    },
    {
      "cell_type": "code",
      "metadata": {
        "id": "dUt8WIcyZLwL"
      },
      "source": [
        "df = df[df['text'].duplicated()==False]"
      ],
      "execution_count": null,
      "outputs": []
    },
    {
      "cell_type": "code",
      "metadata": {
        "id": "wcWWJaBgZLwL"
      },
      "source": [
        "df = df.reset_index(drop = True)"
      ],
      "execution_count": null,
      "outputs": []
    },
    {
      "cell_type": "code",
      "metadata": {
        "colab": {
          "base_uri": "https://localhost:8080/",
          "height": 320
        },
        "id": "O1MrAmtFZLwL",
        "outputId": "8b51eee0-2c61-4ed1-cbaa-c69a2cc85d54"
      },
      "source": [
        "plt.hist(df['Emotion'], bins = range(8), align='left')"
      ],
      "execution_count": null,
      "outputs": [
        {
          "output_type": "execute_result",
          "data": {
            "text/plain": [
              "(array([10170.,  3439.,  6141., 22181., 33467., 16855.,  4784.]),\n",
              " array([0, 1, 2, 3, 4, 5, 6, 7]),\n",
              " <a list of 7 Patch objects>)"
            ]
          },
          "metadata": {
            "tags": []
          },
          "execution_count": 28
        },
        {
          "output_type": "display_data",
          "data": {
            "image/png": "[encoded data removed]",
            "text/plain": [
              "<Figure size 432x288 with 1 Axes>"
            ]
          },
          "metadata": {
            "tags": [],
            "needs_background": "light"
          }
        }
      ]
    },
    {
      "cell_type": "code",
      "metadata": {
        "colab": {
          "base_uri": "https://localhost:8080/",
          "height": 415
        },
        "id": "beQrRaosZLwM",
        "outputId": "b5a96243-04d6-4211-d865-b4309fcb0932"
      },
      "source": [
        "df"
      ],
      "execution_count": null,
      "outputs": [
        {
          "output_type": "execute_result",
          "data": {
            "text/html": [
              "<div>\n",
              "<style scoped>\n",
              "    .dataframe tbody tr th:only-of-type {\n",
              "        vertical-align: middle;\n",
              "    }\n",
              "\n",
              "    .dataframe tbody tr th {\n",
              "        vertical-align: top;\n",
              "    }\n",
              "\n",
              "    .dataframe thead th {\n",
              "        text-align: right;\n",
              "    }\n",
              "</style>\n",
              "<table border=\"1\" class=\"dataframe\">\n",
              "  <thead>\n",
              "    <tr style=\"text-align: right;\">\n",
              "      <th></th>\n",
              "      <th>Emotion</th>\n",
              "      <th>Emotion_ID</th>\n",
              "      <th>text</th>\n",
              "    </tr>\n",
              "  </thead>\n",
              "  <tbody>\n",
              "    <tr>\n",
              "      <th>0</th>\n",
              "      <td>anger</td>\n",
              "      <td>1</td>\n",
              "      <td>fuckin'm transtelecom</td>\n",
              "    </tr>\n",
              "    <tr>\n",
              "      <th>1</th>\n",
              "      <td>anger</td>\n",
              "      <td>1</td>\n",
              "      <td>Working   But it's Fridaaaayyyyy</td>\n",
              "    </tr>\n",
              "    <tr>\n",
              "      <th>2</th>\n",
              "      <td>anger</td>\n",
              "      <td>1</td>\n",
              "      <td>Packing  I don't like it..</td>\n",
              "    </tr>\n",
              "    <tr>\n",
              "      <th>3</th>\n",
              "      <td>anger</td>\n",
              "      <td>1</td>\n",
              "      <td>I tried to dye my hair and all i got was a blo...</td>\n",
              "    </tr>\n",
              "    <tr>\n",
              "      <th>4</th>\n",
              "      <td>anger</td>\n",
              "      <td>1</td>\n",
              "      <td>&amp;quot;locked up abroad&amp;quot; makes bein half b...</td>\n",
              "    </tr>\n",
              "    <tr>\n",
              "      <th>...</th>\n",
              "      <td>...</td>\n",
              "      <td>...</td>\n",
              "      <td>...</td>\n",
              "    </tr>\n",
              "    <tr>\n",
              "      <th>97032</th>\n",
              "      <td>Surprise</td>\n",
              "      <td>7</td>\n",
              "      <td>If the birds are disturbed during the process ...</td>\n",
              "    </tr>\n",
              "    <tr>\n",
              "      <th>97033</th>\n",
              "      <td>Surprise</td>\n",
              "      <td>7</td>\n",
              "      <td>It was Blackberry who bullied the stupefied Pi...</td>\n",
              "    </tr>\n",
              "    <tr>\n",
              "      <th>97034</th>\n",
              "      <td>Surprise</td>\n",
              "      <td>7</td>\n",
              "      <td>He woke stupefied , flicking his tongue over h...</td>\n",
              "    </tr>\n",
              "    <tr>\n",
              "      <th>97035</th>\n",
              "      <td>Surprise</td>\n",
              "      <td>7</td>\n",
              "      <td>Laura stared up at Ross in stupefied ama</td>\n",
              "    </tr>\n",
              "    <tr>\n",
              "      <th>97036</th>\n",
              "      <td>Surprise</td>\n",
              "      <td>7</td>\n",
              "      <td>The pain had faded into the background and she...</td>\n",
              "    </tr>\n",
              "  </tbody>\n",
              "</table>\n",
              "<p>97037 rows × 3 columns</p>\n",
              "</div>"
            ],
            "text/plain": [
              "        Emotion  Emotion_ID                                               text\n",
              "0         anger           1                              fuckin'm transtelecom\n",
              "1         anger           1                   Working   But it's Fridaaaayyyyy\n",
              "2         anger           1                         Packing  I don't like it..\n",
              "3         anger           1  I tried to dye my hair and all i got was a blo...\n",
              "4         anger           1  &quot;locked up abroad&quot; makes bein half b...\n",
              "...         ...         ...                                                ...\n",
              "97032  Surprise           7  If the birds are disturbed during the process ...\n",
              "97033  Surprise           7  It was Blackberry who bullied the stupefied Pi...\n",
              "97034  Surprise           7  He woke stupefied , flicking his tongue over h...\n",
              "97035  Surprise           7           Laura stared up at Ross in stupefied ama\n",
              "97036  Surprise           7  The pain had faded into the background and she...\n",
              "\n",
              "[97037 rows x 3 columns]"
            ]
          },
          "metadata": {
            "tags": []
          },
          "execution_count": 29
        }
      ]
    },
    {
      "cell_type": "code",
      "metadata": {
        "id": "Cq4OK6BfZLwM"
      },
      "source": [
        "preprocessing(df)"
      ],
      "execution_count": null,
      "outputs": []
    },
    {
      "cell_type": "code",
      "metadata": {
        "id": "8Rcg0UmCZLwN"
      },
      "source": [
        "df_feat = df.drop(['text', 'Emotion_ID'], axis = 1)\n",
        "df_y = df['Emotion_ID']"
      ],
      "execution_count": null,
      "outputs": []
    },
    {
      "cell_type": "code",
      "metadata": {
        "id": "1xdTIYmEZLwN"
      },
      "source": [
        "from sklearn.feature_extraction.text import CountVectorizer\n",
        "cv = CountVectorizer(max_features=5000)\n",
        "text_counts = cv.fit_transform(df['text'])\n",
        "text_counts.toarray().shape"
      ],
      "execution_count": null,
      "outputs": []
    },
    {
      "cell_type": "code",
      "metadata": {
        "id": "F89HzfA4ZLwN"
      },
      "source": [
        "df_bow = pd.DataFrame(text_counts.toarray(), columns = cv.get_feature_names())"
      ],
      "execution_count": null,
      "outputs": []
    },
    {
      "cell_type": "code",
      "metadata": {
        "id": "75GrcziiZLwN"
      },
      "source": [
        "from sklearn.linear_model import SGDClassifier , LogisticRegression\n",
        "from sklearn.linear_model import LogisticRegressionCV\n",
        "from sklearn.svm import LinearSVC\n",
        "from sklearn.ensemble import RandomForestClassifier\n",
        "\n",
        "from sklearn.model_selection import train_test_split\n",
        "from sklearn.metrics import confusion_matrix,accuracy_score\n",
        "from sklearn.preprocessing import MinMaxScaler\n",
        "from sklearn.metrics import classification_report\n"
      ],
      "execution_count": null,
      "outputs": []
    },
    {
      "cell_type": "code",
      "metadata": {
        "id": "0_OfN83iZLwO"
      },
      "source": [
        "%%time\n",
        "X, y = (df_bow, df_y)\n",
        "scaler=MinMaxScaler(feature_range=(0,1))\n",
        "X=scaler.fit_transform(X)\n",
        "X_train,X_test,y_train,y_test=train_test_split(X,y,test_size=0.2,random_state=2)\n",
        "svm=LinearSVC(random_state=2,max_iter=2000)\n",
        "svm.fit(X_train,y_train)\n",
        "y_pred=svm.predict(X_test)\n",
        "acc=accuracy_score(y_test,y_pred)\n",
        "print(\"SVM ---->\",acc)"
      ],
      "execution_count": null,
      "outputs": []
    },
    {
      "cell_type": "code",
      "metadata": {
        "id": "sGer4iXCZLwR"
      },
      "source": [
        "confusion_matrix(y_test, y_pred)"
      ],
      "execution_count": null,
      "outputs": []
    },
    {
      "cell_type": "code",
      "metadata": {
        "id": "0lpoKsYtZLwS",
        "scrolled": true
      },
      "source": [
        "print(classification_report(y_test,y_pred))"
      ],
      "execution_count": null,
      "outputs": []
    },
    {
      "cell_type": "markdown",
      "metadata": {
        "id": "bohY9_AfZLwU"
      },
      "source": [
        "SGD ----> 0.65179307502061\n",
        "LR ----> 0.6641591096455071\n",
        "LRCV ----> 0.6606553998351196\n",
        "SVM ----> 0.6645713107996702\n",
        "RFC ----> 0.6562757625721352"
      ]
    },
    {
      "cell_type": "code",
      "metadata": {
        "id": "PZMlPKYaZLwU"
      },
      "source": [
        "q = world_trends[0]['trends'][random.randint(0,len(world_trends[0]['trends']))]['name']\n",
        "print(\"Trend : \",q)\n",
        "tweets = twitter_api.search.tweets(q=q + '-filter:retweets', lang='en' ,count=10, tweet_mode='extended')\n",
        "query_tweets=[]\n",
        "for i in range(len(tweets['statuses'])):\n",
        "    query_tweets.append(tweets['statuses'][i]['full_text'])\n",
        "    \n",
        "q = world_trends[0]['trends'][random.randint(0,len(world_trends[0]['trends']))]['name']\n",
        "print(\"Trend : \",q)\n",
        "tweets = twitter_api.search.tweets(q=q + '-filter:retweets', lang='en' ,count=10, tweet_mode='extended')\n",
        "#query_tweets=[]\n",
        "for i in range(len(tweets['statuses'])):\n",
        "    query_tweets.append(tweets['statuses'][i]['full_text'])\n",
        "    \n",
        "    \n",
        "query_df = pd.DataFrame(query_tweets)\n",
        "query_df.columns = ['text']\n",
        "print(query_df)\n",
        "new_df = query_df.copy(deep=True)\n",
        "tweets_df = preprocessing(new_df)"
      ],
      "execution_count": null,
      "outputs": []
    },
    {
      "cell_type": "code",
      "metadata": {
        "id": "rki7virtZLwU"
      },
      "source": [
        "text_counts = cv.transform(tweets_df['text'])\n",
        "text_counts.toarray().shape\n",
        "test = pd.DataFrame(text_counts.toarray(), columns = cv.get_feature_names())"
      ],
      "execution_count": null,
      "outputs": []
    },
    {
      "cell_type": "code",
      "metadata": {
        "id": "XEpd3lmvZLwU"
      },
      "source": [
        "result = svm.predict(test)"
      ],
      "execution_count": null,
      "outputs": []
    },
    {
      "cell_type": "code",
      "metadata": {
        "id": "kER_v6SFZLwV"
      },
      "source": [
        "result"
      ],
      "execution_count": null,
      "outputs": []
    },
    {
      "cell_type": "code",
      "metadata": {
        "id": "KgVedp47oEGp"
      },
      "source": [
        "emotion = [None] * 20\n",
        "for i in range(len(result)):\n",
        "  if (result[i] == 1):\n",
        "    emotion[i] = 'Anger'\n",
        "  elif (result[i] == 2):\n",
        "    emotion[i] = 'Disgust'\n",
        "  elif (result[i] == 3):\n",
        "    emotion[i] = 'Fear'\n",
        "  elif (result[i] == 4):\n",
        "    emotion[i] = 'Happy'\n",
        "  elif (result[i] == 5):\n",
        "    emotion[i] = 'Neutral'\n",
        "  elif (result[i] == 6):\n",
        "    emotion[i] = 'Sad'\n",
        "  elif (result[i] == 7):\n",
        "    emotion[i] = 'Surprise'"
      ],
      "execution_count": null,
      "outputs": []
    },
    {
      "cell_type": "code",
      "metadata": {
        "id": "1ImiPv_unrg_"
      },
      "source": [
        "query_df['Emotion'] = emotion\n",
        "query_df['Emotion_ID'] = result"
      ],
      "execution_count": null,
      "outputs": []
    },
    {
      "cell_type": "code",
      "metadata": {
        "id": "ZLX9oKLvZLwV"
      },
      "source": [
        "for i in range(len(result)):\n",
        "    if result[i] == 1:\n",
        "        print(query_df['text'][i], '--------------   anger')\n",
        "    elif result[i] == 2:\n",
        "        print(query_df['text'][i],'--------------   disgust')\n",
        "    elif result[i] == 3:\n",
        "        print(query_df['text'][i],'--------------   fear')\n",
        "    elif result[i] == 4:\n",
        "        print(query_df['text'][i],'--------------   happy')\n",
        "    elif result[i] == 5:\n",
        "        print(query_df['text'][i],'--------------   neutral')\n",
        "    elif result[i] == 6:\n",
        "        print(query_df['text'][i],'--------------   sad')\n",
        "    elif result[i] == 7:\n",
        "        print(query_df['text'][i],'--------------   surprise')\n",
        "    print('****************************************************************************************************************************\\n')"
      ],
      "execution_count": null,
      "outputs": []
    },
    {
      "cell_type": "code",
      "metadata": {
        "id": "nYdfkMwafOf8"
      },
      "source": [
        "#query_df.to_csv('/content/drive/MyDrive/Mini Project/dataset/query_output.csv')\n",
        "query_df.to_csv('./Output/query_output.csv')"
      ],
      "execution_count": null,
      "outputs": []
    },
    {
      "cell_type": "code",
      "metadata": {
        "id": "b8J1OVuRo9y_"
      },
      "source": [
        ""
      ],
      "execution_count": null,
      "outputs": []
    },
    {
      "cell_type": "code",
      "metadata": {
        "id": "-4tfjDZj3WO9"
      },
      "source": [
        ""
      ],
      "execution_count": null,
      "outputs": []
    }
  ]
}